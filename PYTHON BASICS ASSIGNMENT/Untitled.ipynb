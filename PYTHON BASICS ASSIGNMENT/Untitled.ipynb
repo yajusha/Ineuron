{
 "cells": [
  {
   "cell_type": "raw",
   "metadata": {},
   "source": [
    "1. In the below elements which of them are values or an expression? eg:- values can be\n",
    "integer or string and expressions will be mathematical operators.\n",
    "*\n",
    "'hello'\n",
    "-87.8\n",
    "-\n",
    "/\n",
    "+\n",
    "6\n",
    "answer: * -> experssion\n",
    "       'hello' -> values\n",
    "       -87.8 -> values\n",
    "        - -> expression\n",
    "        / -> expression\n",
    "        + -> expression\n",
    "        6 -> values\n",
    "        \n",
    "2. What is the difference between string and variable?\n",
    "answer: A Variable is a store of information, and a String is a type of information you would store in a Variable.\n",
    "The string is 'spam'; the variable is spam. Strings always start and end with quotes.\n",
    "\n",
    "3. Describe three different data types.\n",
    "answer: (i) Integers (int) -> are Whole numbers, which are immutable. eg: 5364\t\t\n",
    "(ii) Floats -> are , which areDecimal Numbers, which are immutable. eg: 3.1415\t\t\n",
    "(iii) Booleans -> are Truth values that represent Yes/No, which are immutable. eg: True, False\n",
    "\n",
    "4. What is an expression made up of? What do all expressions do?\n",
    "answer: An expression is a combination of values and operators. All expressions evaluate (that is, reduce) to a single value.An expression evaluates to a single value. A statement does not.\n",
    "\n",
    "5. This assignment statements, like spam = 10. What is the difference between an\n",
    "expression and a statement?\n",
    "answer: Expressions produce a value, and that value will be passed into the function. Statements don't produce a value, and so they can't be used as function arguments.\n",
    "\n",
    "6. After running the following code, what does the variable bacon contain?\n",
    "bacon = 22\n",
    "bacon + 1\n",
    "answer: The bacon variable is set to 22. The bacon + 1 expression does not reassign the value in bacon (that would need an assignment statement: bacon = bacon + 1).\n",
    "\n",
    "7. What should the values of the following two terms be?\n",
    "'spam' + 'spamspam'\n",
    "'spam' * 3\n",
    "answer: Both expressions evaluate to the string 'spamspamspam'.\n",
    "\n",
    "8. Why is eggs a valid variable name while 100 is invalid?\n",
    "answer: Variable names cannot begin with a number.\n",
    "\n",
    "9. What three functions can be used to get the integer, floating-point number, or string\n",
    "version of a value?\n",
    "answer: The int() , float() , and str( ) functions will evaluate to the integer, floating-point number, and string versions of the value passed to them.\n",
    "\n",
    "10. Why does this expression cause an error? How can you fix it?\n",
    "'I have eaten' + 99 + ' burritos.'\n",
    "answer: The expression causes an error because 99 is an integer, and only strings can be concatenated to other strings with the + operator. The correct way is I have eaten ' + str(99) + ' burritos.'.\n",
    "\n"
   ]
  }
 ],
 "metadata": {
  "kernelspec": {
   "display_name": "Python 3",
   "language": "python",
   "name": "python3"
  },
  "language_info": {
   "codemirror_mode": {
    "name": "ipython",
    "version": 3
   },
   "file_extension": ".py",
   "mimetype": "text/x-python",
   "name": "python",
   "nbconvert_exporter": "python",
   "pygments_lexer": "ipython3",
   "version": "3.7.6"
  }
 },
 "nbformat": 4,
 "nbformat_minor": 4
}

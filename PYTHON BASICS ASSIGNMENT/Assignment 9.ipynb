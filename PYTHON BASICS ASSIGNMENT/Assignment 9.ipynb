{
 "cells": [
  {
   "cell_type": "raw",
   "metadata": {},
   "source": [
    "QUESTIONS :\n",
    "\n",
    "1. To what does a relative path refer?\n",
    "2. What does an absolute path start with your operating system?\n",
    "3. What do the functions os.getcwd() and os.chdir() do?\n",
    "4. What are the . and .. folders?\n",
    "5. In C:\\bacon\\eggs\\spam.txt, which part is the dir name, and which part is the base name?\n",
    "6. What are the three “mode” arguments that can be passed to the open() function?\n",
    "7. What happens if an existing file is opened in write mode?\n",
    "8. How do you tell the difference between read() and readlines()?\n",
    "9. What data structure does a shelf value resemble?\n",
    "\n",
    "ANSWERS :\n",
    "\n",
    "1.Relative paths are relative to the current working directory.\n",
    "\n",
    "2.Absolute paths start with the root folder, such as / or C:\\.\n",
    "\n",
    "3.The os.getcwd() function returns the current working directory. The os.chdir() function changes the current working directory.\n",
    "\n",
    "4.The . folder is the current folder, and .. is the parent folder.\n",
    "\n",
    "5.C:\\bacon\\eggs is the dir name, while spam.txt is the base name.\n",
    "\n",
    "6.The string 'r' for read mode, 'w' for write mode, and 'a' for append mode\n",
    "\n",
    "7.An existing file opened in write mode is erased and completely overwritten.\n",
    "\n",
    "8.The read() method returns the file’s entire contents as a single string value. The readlines() method returns a list of strings, where each string is a line from the file’s contents.\n",
    "\n",
    "9.A shelf value resembles a dictionary value; it has keys and values, along with keys() and values() methods that work similarly to the dictionary methods of the same names.\n"
   ]
  }
 ],
 "metadata": {
  "kernelspec": {
   "display_name": "Python 3",
   "language": "python",
   "name": "python3"
  },
  "language_info": {
   "codemirror_mode": {
    "name": "ipython",
    "version": 3
   },
   "file_extension": ".py",
   "mimetype": "text/x-python",
   "name": "python",
   "nbconvert_exporter": "python",
   "pygments_lexer": "ipython3",
   "version": "3.7.6"
  }
 },
 "nbformat": 4,
 "nbformat_minor": 4
}

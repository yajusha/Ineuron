{
 "cells": [
  {
   "cell_type": "raw",
   "metadata": {},
   "source": [
    "QUESTIONS :\n",
    "\n",
    "1. Is the Python Standard Library included with PyInputPlus?\n",
    "2. Why is PyInputPlus commonly imported with import pyinputplus as pypi?\n",
    "3. How do you distinguish between inputInt() and inputFloat()?\n",
    "4. Using PyInputPlus, how do you ensure that the user enters a whole number between 0 and 99?\n",
    "5. What is transferred to the keyword arguments allowRegexes and blockRegexes?\n",
    "6. If a blank input is entered three times, what does inputStr(limit=3) do?\n",
    "7. If blank input is entered three times, what does inputStr(limit=3, default='hello') do?\n",
    "\n",
    "ANSWERS :\n",
    "\n",
    "1.PyInputPlus is not a part of the Python Standard Library, we must install it separately using Pip.\n",
    "\n",
    "2.You can import the module with import pyinputplus as pyip so that you can enter a shorter name when calling the module's functions. \n",
    "\n",
    "3.The inputInt() function returns an integer, while the inputFloat() function returns a float value. The inputFloat() function returns an integer, while the inputInt() function returns a float. The inputInt() function returns an integer, while the inputFloat() function returns a string value.\n",
    "\n",
    "4.In the inputint function we can set the min = 0 and max =99 to ensure user enters number between 0 and 99\n",
    "\n",
    "5.We can also use regular expressions to specify whether an input is allowed or not. The allowRegexes and blockRegexes keyword arguments take a list of regular expression strings to determine what the PyInputPlus function will accept or reject as valid input.\n",
    "\n",
    "6.It will throw RetryLimitException exception.\n",
    "\n",
    "7.When you use limit keyword arguments and. also pass a default keyword argument, the function returns the default value instead of raising an exception."
   ]
  }
 ],
 "metadata": {
  "kernelspec": {
   "display_name": "Python 3",
   "language": "python",
   "name": "python3"
  },
  "language_info": {
   "codemirror_mode": {
    "name": "ipython",
    "version": 3
   },
   "file_extension": ".py",
   "mimetype": "text/x-python",
   "name": "python",
   "nbconvert_exporter": "python",
   "pygments_lexer": "ipython3",
   "version": "3.7.6"
  }
 },
 "nbformat": 4,
 "nbformat_minor": 4
}

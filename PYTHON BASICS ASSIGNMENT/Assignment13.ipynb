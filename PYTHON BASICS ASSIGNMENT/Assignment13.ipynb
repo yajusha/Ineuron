{
 "cells": [
  {
   "cell_type": "raw",
   "metadata": {},
   "source": [
    "QUESTIONS :\n",
    "\n",
    "1. What advantages do Excel spreadsheets have over CSV spreadsheets?\n",
    "2. What do you pass to csv.reader() and csv.writer() to create reader and writer objects?\n",
    "3. What modes do File objects for reader and writer objects need to be opened in?\n",
    "4. What method takes a list argument and writes it to a CSV file?\n",
    "5. What do the keyword arguments delimiter and line terminator do?\n",
    "6. What function takes a string of JSON data and returns a Python data structure?\n",
    "7. What function takes a Python data structure and returns a string of JSON data?\n",
    "\n",
    "ANSWERS :\n",
    "\n",
    "1.In Excel, spreadsheets can have values of data types other than strings; cells can have different fonts, sizes, or color settings; cells can have varying widths and heights; adjacent cells can be merged; and you can embed images and charts.\n",
    "\n",
    "2.You pass a File object, obtained from a call to open().\n",
    "\n",
    "3.File objects need to be opened in read-binary ('rb') for Reader objects and write-binary ('wb') for Writer objects.\n",
    "\n",
    "4.The writerow() method\n",
    "\n",
    "5.The delimiter argument changes the string used to separate cells in a row. The lineterminator argument changes the string used to separate rows.\n",
    "\n",
    "6.json.loads()\n",
    "\n",
    "7.json.dumps()"
   ]
  }
 ],
 "metadata": {
  "kernelspec": {
   "display_name": "Python 3",
   "language": "python",
   "name": "python3"
  },
  "language_info": {
   "codemirror_mode": {
    "name": "ipython",
    "version": 3
   },
   "file_extension": ".py",
   "mimetype": "text/x-python",
   "name": "python",
   "nbconvert_exporter": "python",
   "pygments_lexer": "ipython3",
   "version": "3.7.6"
  }
 },
 "nbformat": 4,
 "nbformat_minor": 4
}
